{
  "nbformat": 4,
  "nbformat_minor": 0,
  "metadata": {
    "colab": {
      "provenance": [],
      "authorship_tag": "ABX9TyNtex6QQx3EvNsXTqSFug90",
      "include_colab_link": true
    },
    "kernelspec": {
      "name": "python3",
      "display_name": "Python 3"
    },
    "language_info": {
      "name": "python"
    }
  },
  "cells": [
    {
      "cell_type": "markdown",
      "metadata": {
        "id": "view-in-github",
        "colab_type": "text"
      },
      "source": [
        "<a href=\"https://colab.research.google.com/github/rose-777/Projects/blob/main/Task_10.ipynb\" target=\"_parent\"><img src=\"https://colab.research.google.com/assets/colab-badge.svg\" alt=\"Open In Colab\"/></a>"
      ]
    },
    {
      "cell_type": "markdown",
      "metadata": {
        "id": "RRjGptxXPb91"
      },
      "source": [
        "Discuss One-Hot-Encoding\n",
        "\n",
        "Introduction:\n",
        "\n",
        "Sometimes in datasets, we encounter columns that contain numbers of no specific order of preference. The data in the column usually denotes a category or value of the category and also when the data in the column is label encoded. This confuses the machine learning model, to avoid this the data in the column should be One Hot encoded.\n",
        "\n",
        "One-Hot-Encoding:\n",
        "\n",
        "It refers to splitting the column which contains numerical categorical data to many columns depending on the number of categories present in that column. Each column contains “0” or “1” corresponding to which column it has been placed.\n",
        "\n",
        "One hot encoder only takes numerical categorical values, hence any value of string type should be label encoded before one-hot encoded.\n",
        "\n",
        "The one hot encoder does not accept 1-dimensional array or a pandas series, the input should always be 2 Dimensional.\n",
        "The data passed to the encoder should not contain strings.\n",
        "\n",
        "Some points to remember:\n",
        "OneHotEncoder()\n",
        "• One hot encoding is a process of converting categorical data variables.\n",
        "• So they can be provided to machine learning algorithms to improve predictions.\n",
        "• One hot encoding is a crucial part of feature engineering for machine learning.\n",
        "• The input to this transformer should be an array-like of integers or strings, denoting the\n",
        "values taken on by categorical (discrete) features. The features are encoded using a one-hot\n",
        "(aka ‘one-of-K’ or ‘dummy’) encoding scheme. This creates a binary column for each category\n",
        "and returns a sparse matrix or dense array (depending on the sparse parameter)\n",
        "• By default, the encoder derives the categories based on the unique values in each feature."
      ]
    },
    {
      "cell_type": "markdown",
      "metadata": {
        "id": "BOu-t5HFV_za"
      },
      "source": [
        "Discuss Multicollinearity and the Dummy Variable Trap.\n",
        "\n",
        "Multicollinearity:\n",
        "\n",
        "Multicollinearity occurs when two or more independent variables (a.k.a. features) in the dataset are correlated with each other. There are several methods using which we can measure the degree and direction of correlation for bivariate cases (more information on measures of correlation), while multicollinearity is generally measured using Variance Inflation Factor (more information on measures of multicollinearity). In a nutshell, multicollinearity is said to exist in a dataset when the independent variables are (nearly) linearly related to each other.\n",
        "\n",
        "Dummy Variable Trap\n",
        "\n",
        "The dummy variable trap manifests itself directly from one-hot-encoding applied on categorical variables. As discussed earlier, size of one-hot vectors is equal to the number of unique values that a categorical column takes up and each such vector contains exactly one ‘1’ in it.The vectors that we use to encode the categorical columns are called ‘Dummy Variables’. We intended to solve the problem of using categorical variables, but got trapped by the problem of Multicollinearity. This is called the Dummy Variable Trap.\n",
        "\n",
        "Some points to remember:\n",
        "• Dummy Variable Trap as the outcome of one variable can easily be predicted with the help\n",
        "of the remaining variables.\n",
        "• Dummy Variable Trap is a scenario in which variables are highly correlated to each other.\n",
        "• The Dummy Variable Trap leads to the problem known as Multicollinearity. Multicollinear￾ity occurs where there is a dependency between the independent features.\n",
        "• Multicollinearity is a serious issue in machine learning models like Linear Regression and\n",
        "Logistic Regression.\n",
        "• So, in order to overcome the problem of multicollinearity, one of the dummy variables has to\n",
        "be dropped."
      ]
    },
    {
      "cell_type": "markdown",
      "metadata": {
        "id": "HXMlUwYrYaq_"
      },
      "source": [
        "What is Nominal and Ordinal Variables ?\n",
        " Nominal data simply names something without assigning it to an order in relation to other\n",
        "numbered objects or pieces of data.\n",
        "• An example of nominal data might be a “pass” or “fail” classification for each student’s test result.     Nominal data provides some information about a group or set of events, even if that\n",
        "information is limited to mere counts.\n",
        "\n",
        "Ordinal data, unlike nominal data, involves some order; ordinal numbers stand in relation to\n",
        "each other in a ranked fashion.\n",
        "• For example, suppose you receive a survey from your favorite restaurant that asks you to\n",
        "provide feedback on the service you received. You can rank the quality of service as “1” for\n",
        "poor, “2” for below average, “3” for average, “4” for very good and “5” for excellent. The\n",
        "data collected by this survey are examples of ordinal data. Here the numbers assigned have\n",
        "an order or rank; that is, a ranking of “4” is better than a ranking of “2.”"
      ]
    },
    {
      "cell_type": "markdown",
      "metadata": {
        "id": "my39SS0iUS2-"
      },
      "source": [
        "Salary Dataset of 52 professors having categorical columns. Apply dummy variables concept and one-hot-encoding on categorical columns"
      ]
    },
    {
      "cell_type": "code",
      "metadata": {
        "id": "ygpiA0YFgS_t"
      },
      "source": [
        "import numpy as np\n",
        "import pandas as pd"
      ],
      "execution_count": null,
      "outputs": []
    },
    {
      "cell_type": "code",
      "metadata": {
        "id": "3cXPf6S8garw",
        "colab": {
          "base_uri": "https://localhost:8080/",
          "height": 203
        },
        "outputId": "c9f4ca74-7866-478e-ca1c-ea3ede6d733f"
      },
      "source": [
        "sal = pd.read_table('/content/salary.dat.txt',delim_whitespace = True)\n",
        "sal.head()"
      ],
      "execution_count": null,
      "outputs": [
        {
          "output_type": "execute_result",
          "data": {
            "text/html": [
              "<div>\n",
              "<style scoped>\n",
              "    .dataframe tbody tr th:only-of-type {\n",
              "        vertical-align: middle;\n",
              "    }\n",
              "\n",
              "    .dataframe tbody tr th {\n",
              "        vertical-align: top;\n",
              "    }\n",
              "\n",
              "    .dataframe thead th {\n",
              "        text-align: right;\n",
              "    }\n",
              "</style>\n",
              "<table border=\"1\" class=\"dataframe\">\n",
              "  <thead>\n",
              "    <tr style=\"text-align: right;\">\n",
              "      <th></th>\n",
              "      <th>sx</th>\n",
              "      <th>rk</th>\n",
              "      <th>yr</th>\n",
              "      <th>dg</th>\n",
              "      <th>yd</th>\n",
              "      <th>sl</th>\n",
              "    </tr>\n",
              "  </thead>\n",
              "  <tbody>\n",
              "    <tr>\n",
              "      <th>0</th>\n",
              "      <td>male</td>\n",
              "      <td>full</td>\n",
              "      <td>25</td>\n",
              "      <td>doctorate</td>\n",
              "      <td>35</td>\n",
              "      <td>36350</td>\n",
              "    </tr>\n",
              "    <tr>\n",
              "      <th>1</th>\n",
              "      <td>male</td>\n",
              "      <td>full</td>\n",
              "      <td>13</td>\n",
              "      <td>doctorate</td>\n",
              "      <td>22</td>\n",
              "      <td>35350</td>\n",
              "    </tr>\n",
              "    <tr>\n",
              "      <th>2</th>\n",
              "      <td>male</td>\n",
              "      <td>full</td>\n",
              "      <td>10</td>\n",
              "      <td>doctorate</td>\n",
              "      <td>23</td>\n",
              "      <td>28200</td>\n",
              "    </tr>\n",
              "    <tr>\n",
              "      <th>3</th>\n",
              "      <td>female</td>\n",
              "      <td>full</td>\n",
              "      <td>7</td>\n",
              "      <td>doctorate</td>\n",
              "      <td>27</td>\n",
              "      <td>26775</td>\n",
              "    </tr>\n",
              "    <tr>\n",
              "      <th>4</th>\n",
              "      <td>male</td>\n",
              "      <td>full</td>\n",
              "      <td>19</td>\n",
              "      <td>masters</td>\n",
              "      <td>30</td>\n",
              "      <td>33696</td>\n",
              "    </tr>\n",
              "  </tbody>\n",
              "</table>\n",
              "</div>"
            ],
            "text/plain": [
              "       sx    rk  yr         dg  yd     sl\n",
              "0    male  full  25  doctorate  35  36350\n",
              "1    male  full  13  doctorate  22  35350\n",
              "2    male  full  10  doctorate  23  28200\n",
              "3  female  full   7  doctorate  27  26775\n",
              "4    male  full  19    masters  30  33696"
            ]
          },
          "metadata": {
            "tags": []
          },
          "execution_count": 2
        }
      ]
    },
    {
      "cell_type": "code",
      "metadata": {
        "id": "_mqWHMmZgcIF",
        "colab": {
          "base_uri": "https://localhost:8080/"
        },
        "outputId": "6b8a74cf-59f4-472e-937b-5f88cdfa185f"
      },
      "source": [
        "sal.dtypes"
      ],
      "execution_count": null,
      "outputs": [
        {
          "output_type": "execute_result",
          "data": {
            "text/plain": [
              "sx    object\n",
              "rk    object\n",
              "yr     int64\n",
              "dg    object\n",
              "yd     int64\n",
              "sl     int64\n",
              "dtype: object"
            ]
          },
          "metadata": {
            "tags": []
          },
          "execution_count": 3
        }
      ]
    },
    {
      "cell_type": "code",
      "metadata": {
        "id": "kMoDmC1ygpaW",
        "colab": {
          "base_uri": "https://localhost:8080/"
        },
        "outputId": "50602c97-4d31-4a69-dc20-eba0406d6f7d"
      },
      "source": [
        "sal.columns"
      ],
      "execution_count": null,
      "outputs": [
        {
          "output_type": "execute_result",
          "data": {
            "text/plain": [
              "Index(['sx', 'rk', 'yr', 'dg', 'yd', 'sl'], dtype='object')"
            ]
          },
          "metadata": {
            "tags": []
          },
          "execution_count": 4
        }
      ]
    },
    {
      "cell_type": "code",
      "metadata": {
        "id": "YTPN1Z8cgvAY",
        "colab": {
          "base_uri": "https://localhost:8080/"
        },
        "outputId": "6c5947f0-3855-403c-d806-fa2b78e4853d"
      },
      "source": [
        "sal.info()"
      ],
      "execution_count": null,
      "outputs": [
        {
          "output_type": "stream",
          "text": [
            "<class 'pandas.core.frame.DataFrame'>\n",
            "RangeIndex: 52 entries, 0 to 51\n",
            "Data columns (total 6 columns):\n",
            " #   Column  Non-Null Count  Dtype \n",
            "---  ------  --------------  ----- \n",
            " 0   sx      52 non-null     object\n",
            " 1   rk      52 non-null     object\n",
            " 2   yr      52 non-null     int64 \n",
            " 3   dg      52 non-null     object\n",
            " 4   yd      52 non-null     int64 \n",
            " 5   sl      52 non-null     int64 \n",
            "dtypes: int64(3), object(3)\n",
            "memory usage: 2.6+ KB\n"
          ],
          "name": "stdout"
        }
      ]
    },
    {
      "cell_type": "markdown",
      "metadata": {
        "id": "pf0kntdGNU2p"
      },
      "source": [
        "get_dummies()\n",
        "• pandas.get_dummies() is used for data manipulation.\n",
        "• It converts categorical data into dummy or indicator variables."
      ]
    },
    {
      "cell_type": "code",
      "metadata": {
        "id": "791OkQTeg-HM",
        "colab": {
          "base_uri": "https://localhost:8080/",
          "height": 223
        },
        "outputId": "2203c4a9-d055-4c9d-b162-4638040b062f"
      },
      "source": [
        " pd.get_dummies(sal,columns = ['sx','rk','dg']).head()"
      ],
      "execution_count": null,
      "outputs": [
        {
          "output_type": "execute_result",
          "data": {
            "text/html": [
              "<div>\n",
              "<style scoped>\n",
              "    .dataframe tbody tr th:only-of-type {\n",
              "        vertical-align: middle;\n",
              "    }\n",
              "\n",
              "    .dataframe tbody tr th {\n",
              "        vertical-align: top;\n",
              "    }\n",
              "\n",
              "    .dataframe thead th {\n",
              "        text-align: right;\n",
              "    }\n",
              "</style>\n",
              "<table border=\"1\" class=\"dataframe\">\n",
              "  <thead>\n",
              "    <tr style=\"text-align: right;\">\n",
              "      <th></th>\n",
              "      <th>yr</th>\n",
              "      <th>yd</th>\n",
              "      <th>sl</th>\n",
              "      <th>sx_female</th>\n",
              "      <th>sx_male</th>\n",
              "      <th>rk_assistant</th>\n",
              "      <th>rk_associate</th>\n",
              "      <th>rk_full</th>\n",
              "      <th>dg_doctorate</th>\n",
              "      <th>dg_masters</th>\n",
              "    </tr>\n",
              "  </thead>\n",
              "  <tbody>\n",
              "    <tr>\n",
              "      <th>0</th>\n",
              "      <td>25</td>\n",
              "      <td>35</td>\n",
              "      <td>36350</td>\n",
              "      <td>0</td>\n",
              "      <td>1</td>\n",
              "      <td>0</td>\n",
              "      <td>0</td>\n",
              "      <td>1</td>\n",
              "      <td>1</td>\n",
              "      <td>0</td>\n",
              "    </tr>\n",
              "    <tr>\n",
              "      <th>1</th>\n",
              "      <td>13</td>\n",
              "      <td>22</td>\n",
              "      <td>35350</td>\n",
              "      <td>0</td>\n",
              "      <td>1</td>\n",
              "      <td>0</td>\n",
              "      <td>0</td>\n",
              "      <td>1</td>\n",
              "      <td>1</td>\n",
              "      <td>0</td>\n",
              "    </tr>\n",
              "    <tr>\n",
              "      <th>2</th>\n",
              "      <td>10</td>\n",
              "      <td>23</td>\n",
              "      <td>28200</td>\n",
              "      <td>0</td>\n",
              "      <td>1</td>\n",
              "      <td>0</td>\n",
              "      <td>0</td>\n",
              "      <td>1</td>\n",
              "      <td>1</td>\n",
              "      <td>0</td>\n",
              "    </tr>\n",
              "    <tr>\n",
              "      <th>3</th>\n",
              "      <td>7</td>\n",
              "      <td>27</td>\n",
              "      <td>26775</td>\n",
              "      <td>1</td>\n",
              "      <td>0</td>\n",
              "      <td>0</td>\n",
              "      <td>0</td>\n",
              "      <td>1</td>\n",
              "      <td>1</td>\n",
              "      <td>0</td>\n",
              "    </tr>\n",
              "    <tr>\n",
              "      <th>4</th>\n",
              "      <td>19</td>\n",
              "      <td>30</td>\n",
              "      <td>33696</td>\n",
              "      <td>0</td>\n",
              "      <td>1</td>\n",
              "      <td>0</td>\n",
              "      <td>0</td>\n",
              "      <td>1</td>\n",
              "      <td>0</td>\n",
              "      <td>1</td>\n",
              "    </tr>\n",
              "  </tbody>\n",
              "</table>\n",
              "</div>"
            ],
            "text/plain": [
              "   yr  yd     sl  sx_female  ...  rk_associate  rk_full  dg_doctorate  dg_masters\n",
              "0  25  35  36350          0  ...             0        1             1           0\n",
              "1  13  22  35350          0  ...             0        1             1           0\n",
              "2  10  23  28200          0  ...             0        1             1           0\n",
              "3   7  27  26775          1  ...             0        1             1           0\n",
              "4  19  30  33696          0  ...             0        1             0           1\n",
              "\n",
              "[5 rows x 10 columns]"
            ]
          },
          "metadata": {
            "tags": []
          },
          "execution_count": 6
        }
      ]
    },
    {
      "cell_type": "code",
      "metadata": {
        "id": "tlNS_awMhMUW",
        "colab": {
          "base_uri": "https://localhost:8080/",
          "height": 223
        },
        "outputId": "805c1db7-c802-4f0b-c980-8de9c125aa68"
      },
      "source": [
        "pd.get_dummies(sal,columns = ['sx','rk','dg'],drop_first=True).head()"
      ],
      "execution_count": null,
      "outputs": [
        {
          "output_type": "execute_result",
          "data": {
            "text/html": [
              "<div>\n",
              "<style scoped>\n",
              "    .dataframe tbody tr th:only-of-type {\n",
              "        vertical-align: middle;\n",
              "    }\n",
              "\n",
              "    .dataframe tbody tr th {\n",
              "        vertical-align: top;\n",
              "    }\n",
              "\n",
              "    .dataframe thead th {\n",
              "        text-align: right;\n",
              "    }\n",
              "</style>\n",
              "<table border=\"1\" class=\"dataframe\">\n",
              "  <thead>\n",
              "    <tr style=\"text-align: right;\">\n",
              "      <th></th>\n",
              "      <th>yr</th>\n",
              "      <th>yd</th>\n",
              "      <th>sl</th>\n",
              "      <th>sx_male</th>\n",
              "      <th>rk_associate</th>\n",
              "      <th>rk_full</th>\n",
              "      <th>dg_masters</th>\n",
              "    </tr>\n",
              "  </thead>\n",
              "  <tbody>\n",
              "    <tr>\n",
              "      <th>0</th>\n",
              "      <td>25</td>\n",
              "      <td>35</td>\n",
              "      <td>36350</td>\n",
              "      <td>1</td>\n",
              "      <td>0</td>\n",
              "      <td>1</td>\n",
              "      <td>0</td>\n",
              "    </tr>\n",
              "    <tr>\n",
              "      <th>1</th>\n",
              "      <td>13</td>\n",
              "      <td>22</td>\n",
              "      <td>35350</td>\n",
              "      <td>1</td>\n",
              "      <td>0</td>\n",
              "      <td>1</td>\n",
              "      <td>0</td>\n",
              "    </tr>\n",
              "    <tr>\n",
              "      <th>2</th>\n",
              "      <td>10</td>\n",
              "      <td>23</td>\n",
              "      <td>28200</td>\n",
              "      <td>1</td>\n",
              "      <td>0</td>\n",
              "      <td>1</td>\n",
              "      <td>0</td>\n",
              "    </tr>\n",
              "    <tr>\n",
              "      <th>3</th>\n",
              "      <td>7</td>\n",
              "      <td>27</td>\n",
              "      <td>26775</td>\n",
              "      <td>0</td>\n",
              "      <td>0</td>\n",
              "      <td>1</td>\n",
              "      <td>0</td>\n",
              "    </tr>\n",
              "    <tr>\n",
              "      <th>4</th>\n",
              "      <td>19</td>\n",
              "      <td>30</td>\n",
              "      <td>33696</td>\n",
              "      <td>1</td>\n",
              "      <td>0</td>\n",
              "      <td>1</td>\n",
              "      <td>1</td>\n",
              "    </tr>\n",
              "  </tbody>\n",
              "</table>\n",
              "</div>"
            ],
            "text/plain": [
              "   yr  yd     sl  sx_male  rk_associate  rk_full  dg_masters\n",
              "0  25  35  36350        1             0        1           0\n",
              "1  13  22  35350        1             0        1           0\n",
              "2  10  23  28200        1             0        1           0\n",
              "3   7  27  26775        0             0        1           0\n",
              "4  19  30  33696        1             0        1           1"
            ]
          },
          "metadata": {
            "tags": []
          },
          "execution_count": 7
        }
      ]
    },
    {
      "cell_type": "code",
      "metadata": {
        "id": "yfG6WFXqhfwV",
        "colab": {
          "base_uri": "https://localhost:8080/"
        },
        "outputId": "fed3edcd-e9ce-4958-ece6-337ce32a50d1"
      },
      "source": [
        "from sklearn.preprocessing import OneHotEncoder\n",
        "from sklearn.compose import ColumnTransformer\n",
        "columnTransformer = ColumnTransformer([('encoder',\n",
        "OneHotEncoder(),\n",
        "[0,1,3])],\n",
        "remainder='passthrough')\n",
        "data = np.array(columnTransformer.fit_transform(sal), dtype = str)\n",
        "print(data[:5])"
      ],
      "execution_count": null,
      "outputs": [
        {
          "output_type": "stream",
          "text": [
            "[['0.0' '1.0' '0.0' '0.0' '1.0' '1.0' '0.0' '25.0' '35.0' '36350.0']\n",
            " ['0.0' '1.0' '0.0' '0.0' '1.0' '1.0' '0.0' '13.0' '22.0' '35350.0']\n",
            " ['0.0' '1.0' '0.0' '0.0' '1.0' '1.0' '0.0' '10.0' '23.0' '28200.0']\n",
            " ['1.0' '0.0' '0.0' '0.0' '1.0' '1.0' '0.0' '7.0' '27.0' '26775.0']\n",
            " ['0.0' '1.0' '0.0' '0.0' '1.0' '0.0' '1.0' '19.0' '30.0' '33696.0']]\n"
          ],
          "name": "stdout"
        }
      ]
    }
  ]
}