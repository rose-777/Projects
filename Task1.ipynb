{
  "nbformat": 4,
  "nbformat_minor": 0,
  "metadata": {
    "colab": {
      "provenance": [],
      "authorship_tag": "ABX9TyOyuAoQUkxPy2UTVUULBXq2",
      "include_colab_link": true
    },
    "kernelspec": {
      "name": "python3",
      "display_name": "Python 3"
    },
    "language_info": {
      "name": "python"
    }
  },
  "cells": [
    {
      "cell_type": "markdown",
      "metadata": {
        "id": "view-in-github",
        "colab_type": "text"
      },
      "source": [
        "<a href=\"https://colab.research.google.com/github/rose-777/Projects/blob/main/Task1.ipynb\" target=\"_parent\"><img src=\"https://colab.research.google.com/assets/colab-badge.svg\" alt=\"Open In Colab\"/></a>"
      ]
    },
    {
      "cell_type": "code",
      "execution_count": null,
      "metadata": {
        "id": "NcJymNhcFxc2"
      },
      "outputs": [],
      "source": [
        "import pandas as pd\n",
        "from sklearn.model_selection import train_test_split\n",
        "from tensorflow.keras.preprocessing.text import Tokenizer\n",
        "from tensorflow.keras.preprocessing.sequence import pad_sequences\n",
        "\n",
        "# Load the dataset\n",
        "data = pd.read_csv(\"social_media_depression_data.csv\")\n",
        "\n",
        "# Preprocess text data\n",
        "data['text'] = data['text'].str.lower()\n",
        "data['text'] = data['text'].str.replace('[^\\w\\s]', '')\n",
        "# Tokenization\n",
        "tokenizer = Tokenizer(num_words=5000, oov_token='<OOV>')\n",
        "tokenizer.fit_on_texts(data['text'])\n",
        "\n",
        "# Convert text data into sequences\n",
        "sequences = tokenizer.texts_to_sequences(data['text'])\n",
        "\n",
        "# Padding sequences to make them of equal length\n",
        "X = pad_sequences(sequences, maxlen=100)\n",
        "\n",
        "# Encode labels\n",
        "from sklearn.preprocessing import LabelEncoder\n",
        "encoder = LabelEncoder()\n",
        "y = encoder.fit_transform(data['label'])\n",
        "\n",
        "# Split data into train and test sets\n",
        "X_train, X_test, y_train, y_test = train_test_split(X, y, test_size=0.2, random_state=42)\n",
        "\n",
        "from tensorflow.keras.models import Sequential\n",
        "from tensorflow.keras.layers import Embedding, LSTM, Dense, Dropout\n",
        "\n",
        "# Build LSTM model\n",
        "model = Sequential()\n",
        "model.add(Embedding(5000, 64, input_length=100))\n",
        "model.add(LSTM(128))\n",
        "model.add(Dense(1, activation='sigmoid'))\n",
        "\n",
        "# Compile the model\n",
        "model.compile(loss='binary_crossentropy', optimizer='adam', metrics=['accuracy'])\n",
        "\n",
        "# Train the model\n",
        "history = model.fit(X_train, y_train, epochs=10, batch_size=64, validation_split=0.2)\n",
        "\n",
        "import matplotlib.pyplot as plt\n",
        "\n",
        "# Plot training and validation accuracy\n",
        "plt.plot(history.history['accuracy'], label='Training Accuracy')\n",
        "plt.plot(history.history['val_accuracy'], label='Validation Accuracy')\n",
        "plt.xlabel('Epoch')\n",
        "plt.ylabel('Accuracy')\n",
        "plt.legend()\n",
        "plt.show()\n",
        "\n",
        "# Evaluate the model on test set\n",
        "loss, accuracy = model.evaluate(X_test, y_test)\n",
        "print(\"Test Loss:\", loss)\n",
        "print(\"Test Accuracy:\", accuracy)\n",
        "\n",
        "#Step 5: Deployment\n",
        "#To deploy the model, you can use frameworks like Flask or Django to create a web application. Users can input their social media posts, and the model will predict the risk of depression.\n",
        "\n",
        "#Summary:\n",
        "#This project leverages LSTM neural networks to predict the risk of depression based on social media posts. The model is trained on a dataset containing text data labeled with depression risk levels. By preprocessing the text data, building and training the LSTM model, and evaluating its performance, we can create a useful tool for identifying potential mental health concerns in social media content."
      ]
    },
    {
      "cell_type": "markdown",
      "source": [
        " Let's create a project focused on predicting the risk of depression based on social media posts using a Long Short-Term Memory (LSTM) neural network, which is a type of recurrent neural network (RNN) particularly effective for sequence data like text.\n",
        "\n",
        "Step 1: Data Collection\n",
        "We'll collect data from various social media platforms where individuals share their thoughts and feelings.\n",
        "\n",
        "Step 2: Data Preprocessing\n",
        "\n",
        "Step 3: Model Building\n",
        "\n",
        "Step 4: Model Evaluation\n",
        "\n",
        "#Step 5: Deployment\n",
        "#To deploy the model, you can use frameworks like Flask or Django to create a web application. Users can input their social media posts, and the model will predict the risk of depression.\n",
        "\n",
        "#Summary:\n",
        "#This project leverages LSTM neural networks to predict the risk of depression based on social media posts. The model is trained on a dataset containing text data labeled with depression risk levels. By preprocessing the text data, building and training the LSTM model, and evaluating its performance, we can create a useful tool for identifying potential mental health concerns in social media content."
      ],
      "metadata": {
        "id": "-Xs3QOd4HUwu"
      }
    }
  ]
}